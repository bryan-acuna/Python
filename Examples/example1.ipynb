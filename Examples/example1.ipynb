{
 "metadata": {
  "language_info": {
   "codemirror_mode": {
    "name": "ipython",
    "version": 3
   },
   "file_extension": ".py",
   "mimetype": "text/x-python",
   "name": "python",
   "nbconvert_exporter": "python",
   "pygments_lexer": "ipython3",
   "version": "3.8.3-final"
  },
  "orig_nbformat": 2,
  "kernelspec": {
   "name": "python_defaultSpec_1598811087103",
   "display_name": "Python 3.8.3 64-bit ('acuna.b': virtualenv)"
  }
 },
 "nbformat": 4,
 "nbformat_minor": 2,
 "cells": [
  {
   "cell_type": "code",
   "execution_count": 2,
   "metadata": {
    "tags": []
   },
   "outputs": [
    {
     "output_type": "stream",
     "name": "stdout",
     "text": "Hello\n"
    }
   ],
   "source": [
    "def reverse_string(str):\n",
    "    s = ''\n",
    "    for i, char in enumerate(str[::-1]):\n",
    "        s += char\n",
    "    return s"
   ]
  },
  {
   "cell_type": "code",
   "execution_count": null,
   "metadata": {},
   "outputs": [],
   "source": [
    "def list_check(vals):\n",
    "    return all(type(l) == list for l in vals)"
   ]
  },
  {
   "cell_type": "code",
   "execution_count": null,
   "metadata": {},
   "outputs": [],
   "source": [
    "def remove_every_other(lst):\n",
    "    return [val for i,val in enumerate(lst) if i % 2 == 0]"
   ]
  },
  {
   "cell_type": "code",
   "execution_count": 34,
   "metadata": {},
   "outputs": [],
   "source": [
    "def vowel_count(inst):\n",
    "    lower_inst = inst.lower()\n",
    "    return {i: lower_inst.count(i) for i in lower_inst if i in 'aeiou'}"
   ]
  },
  {
   "cell_type": "code",
   "execution_count": 19,
   "metadata": {},
   "outputs": [],
   "source": [
    "def sum_pairs(ints, s):\n",
    "    already_visited = set()\n",
    "    for i in ints:\n",
    "        print(f\"Already visited: {already_visited}\")\n",
    "        difference = s - i\n",
    "        print(f\"difference: {difference}\")\n",
    "        if difference in already_visited:\n",
    "            return [difference, i]\n",
    "        already_visited.add(i)\n",
    "    return []"
   ]
  },
  {
   "cell_type": "code",
   "execution_count": 20,
   "metadata": {
    "tags": []
   },
   "outputs": [
    {
     "output_type": "stream",
     "name": "stdout",
     "text": "Already visited: set()\ndifference: 2\nAlready visited: {4}\ndifference: 4\n"
    },
    {
     "output_type": "execute_result",
     "data": {
      "text/plain": "[4, 2]"
     },
     "metadata": {},
     "execution_count": 20
    }
   ],
   "source": [
    "sum_pairs([4,2,10,5,1], 6) # [4,2]\n",
    "# sum_pairs([11,20,4,2,1,5], 100) # []"
   ]
  },
  {
   "cell_type": "code",
   "execution_count": 35,
   "metadata": {
    "tags": []
   },
   "outputs": [
    {
     "output_type": "execute_result",
     "data": {
      "text/plain": "{'a': 1, 'e': 2, 'o': 1}"
     },
     "metadata": {},
     "execution_count": 35
    }
   ],
   "source": [
    "vowel_count('awesome')"
   ]
  }
 ]
}